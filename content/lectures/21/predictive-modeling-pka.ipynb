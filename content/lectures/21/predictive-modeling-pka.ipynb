{
  "cells": [
    {
      "cell_type": "markdown",
      "metadata": {
        "id": "PJhJdqzYVvxK"
      },
      "source": [
        "# Predictive Modeling - pKa edition\n",
        "\n",
        "Today, we delve into the application of regression analysis in chemistry and data science.\n",
        "Our dataset comprises p$K_\\text{a}$ values and corresponding molecular descriptors, offering a quantitative approach to understanding molecular properties."
      ]
    },
    {
      "cell_type": "markdown",
      "metadata": {
        "id": "o_3EXAH6VvxN"
      },
      "source": [
        "## pKa\n",
        "\n",
        "The p$K_\\text{a}$ measures a substance's acidity or basicity, particularly in chemistry.\n",
        "It is the negative logarithm (base 10) of the acid dissociation constant ($K_\\text{a}$) of a solution.\n",
        "The p$K_\\text{a}$ value helps quantify the strength of an acid in a solution.\n",
        "\n",
        "The expression for the acid dissociation constant ($K_\\text{a}$), from which p$K_\\text{a}$ is derived, is given by the following chemical equilibrium equation for a generic acid (HA) in water:\n",
        "\n",
        "$$\n",
        "\\text{HA} \\rightleftharpoons \\text{H}^+ + \\text{A}^-\n",
        "$$\n",
        "\n",
        "The equilibrium constant ($K_\\text{a}$) for this reaction is defined as the ratio of the concentrations of the dissociated ions ($\\text{H}^+$ and $\\text{A}^-$) to the undissociated acid ($\\text{HA}$):\n",
        "\n",
        "$$\n",
        "K_a = \\frac{[\\text{H}^+][\\text{A}^-]}{[\\text{HA}]}\n",
        "$$\n",
        "\n",
        "Taking the negative logarithm (base 10) of both sides of the equation gives the expression for pKa:\n",
        "\n",
        "$$\n",
        "\\text{p}K_a = -\\log_{10}(K_a)\n",
        "$$\n",
        "\n",
        "So, in summary, the p$K_\\text{a}$ is calculated by taking the negative logarithm of the acid dissociation constant ($K_\\text{a}$) for a given acid.\n",
        "A lower p$K_\\text{a}$ indicates a stronger acid.\n",
        "\n",
        "In simpler terms:\n",
        "\n",
        "-   A lower p$K_\\text{a}$ indicates a stronger acid because it means the acid is more likely to donate a proton (H+) in a chemical reaction.\n",
        "-   A higher p$K_\\text{a}$ indicates a weaker acid as it is less likely to donate a proton.\n",
        "\n",
        "The p$K_\\text{a}$ is a crucial parameter in understanding the behavior of acids and bases in various chemical reactions.\n",
        "It is commonly used in fields such as medicinal chemistry, biochemistry, and environmental science to describe and predict the behavior of molecules in solution."
      ]
    },
    {
      "cell_type": "markdown",
      "metadata": {
        "id": "n6M2iSi3VvxO"
      },
      "source": [
        "## Exploring the dataset\n",
        "\n",
        "Now, let's shift our focus to a practical application of our theoretical knowledge.\n",
        "\n",
        "I found [this dataset](https://github.com/IUPAC/Dissociation-Constants) that contains a bunch of high-quality experimental measurements of pKas.\n",
        "It contains a bunch of information and other aspects that makes regression a bit of a nightmare; thus, I did some cleaning of the data and computed some molecular features (i.e., descriptors) that we can use.\n",
        "Before delving into regression analysis, it is essential to conduct a systematic review of the dataset.\n",
        "This preliminary examination will provide us with the necessary foundation to understand the quantitative relationships between molecular features and acidity.\n",
        "Let's now proceed with a methodical investigation of the empirical data, setting the stage for our subsequent analytical endeavors."
      ]
    },
    {
      "cell_type": "code",
      "source": [
        "!pip install rdkit\n",
        "!pip install py3Dmol"
      ],
      "metadata": {
        "id": "W_OTNuY-WKsi",
        "outputId": "5410fe3a-2f9e-4892-e501-b54d52df0b7c",
        "colab": {
          "base_uri": "https://localhost:8080/"
        }
      },
      "execution_count": 6,
      "outputs": [
        {
          "output_type": "stream",
          "name": "stdout",
          "text": [
            "Requirement already satisfied: rdkit in /usr/local/lib/python3.10/dist-packages (2024.3.6)\n",
            "Requirement already satisfied: numpy in /usr/local/lib/python3.10/dist-packages (from rdkit) (1.26.4)\n",
            "Requirement already satisfied: Pillow in /usr/local/lib/python3.10/dist-packages (from rdkit) (11.0.0)\n",
            "Collecting py3Dmol\n",
            "  Downloading py3Dmol-2.4.2-py2.py3-none-any.whl.metadata (1.9 kB)\n",
            "Downloading py3Dmol-2.4.2-py2.py3-none-any.whl (7.0 kB)\n",
            "Installing collected packages: py3Dmol\n",
            "Successfully installed py3Dmol-2.4.2\n"
          ]
        }
      ]
    },
    {
      "cell_type": "markdown",
      "metadata": {
        "id": "J8vZRk8LVvxO"
      },
      "source": [
        "### Loading\n",
        "\n",
        "Using the Pandas library, read the CSV file into a DataFrame.\n",
        "Use the variable you defined in the previous step."
      ]
    },
    {
      "cell_type": "code",
      "execution_count": 34,
      "metadata": {
        "id": "9cbEwbK7VvxP"
      },
      "outputs": [],
      "source": [
        "import numpy as np\n",
        "import pandas as pd\n",
        "\n",
        "# @title\n",
        "# pandas - Python library to work with data we want to open in Excel\n",
        "\n",
        "from rdkit import Chem\n",
        "from rdkit.Chem import AllChem\n",
        "from rdkit.Chem import Draw\n",
        "import py3Dmol\n",
        "\n",
        "\n",
        "def show_mol(smi, style=\"stick\"):\n",
        "    mol = Chem.MolFromSmiles(smi)\n",
        "    mol = Chem.AddHs(mol)\n",
        "    AllChem.EmbedMolecule(mol)\n",
        "    AllChem.MMFFOptimizeMolecule(mol, maxIters=200)\n",
        "    mblock = Chem.MolToMolBlock(mol)\n",
        "\n",
        "    view = py3Dmol.view(width=500, height=500)\n",
        "    view.addModel(mblock, \"mol\")\n",
        "    view.setStyle({style: {}})\n",
        "    view.zoomTo()\n",
        "    view.show()"
      ]
    },
    {
      "cell_type": "code",
      "execution_count": 39,
      "metadata": {
        "colab": {
          "base_uri": "https://localhost:8080/"
        },
        "id": "U4PFJk7ZVvxQ",
        "outputId": "11a21d84-0542-4de7-9ce6-b47d52ba2209"
      },
      "outputs": [
        {
          "output_type": "stream",
          "name": "stdout",
          "text": [
            "                      SMILES  pka_value  FractionCSP3  EState_VSA10  \\\n",
            "0     Brc1cc2cccnc2c2ncccc12   4.200000      0.000000           0.0   \n",
            "1           Brc1ccc2ccccc2n1   1.050000      0.000000           0.0   \n",
            "2           Brc1ccc2cccnc2c1   3.870000      0.000000           0.0   \n",
            "3           Brc1ccc2ncccc2c1   3.910000      0.000000           0.0   \n",
            "4           Brc1cccc2cccnc12   3.130000      0.000000           0.0   \n",
            "...                      ...        ...           ...           ...   \n",
            "1701   c1cncc(CNCc2cccnc2)c1   7.150000      0.166667           0.0   \n",
            "1702                c1cnccn1   1.100000      0.000000           0.0   \n",
            "1703                 c1cnoc1   1.300000      0.000000           0.0   \n",
            "1704                 c1cscn1   2.529333      0.000000           0.0   \n",
            "1705              c1nc[nH]n1   2.300000      0.000000           0.0   \n",
            "\n",
            "      MinAbsPartialCharge  HallKierAlpha  MaxEStateIndex  SMR_VSA10  \\\n",
            "0                0.097537          -1.48        4.377685  37.735794   \n",
            "1                0.106326          -0.89        4.292315  26.832869   \n",
            "2                0.071267          -0.89        4.212037  26.832869   \n",
            "3                0.070223          -0.89        4.201481  26.832869   \n",
            "4                0.084336          -0.89        4.233866  26.832869   \n",
            "...                   ...            ...             ...        ...   \n",
            "1701             0.031233          -1.74        4.057982   0.000000   \n",
            "1702             0.045108          -0.92        3.722222   0.000000   \n",
            "1703             0.123285          -0.79        4.333333   0.000000   \n",
            "1704             0.079075          -0.37        3.740741  11.336786   \n",
            "1705             0.136997          -0.86        3.555556   0.000000   \n",
            "\n",
            "      VSA_EState2  VSA_EState8  ...   TPSA  NumAromaticRings  EState_VSA6  \\\n",
            "0        8.744815     0.000000  ...  25.78                 3    12.393687   \n",
            "1        4.292315     0.000000  ...  12.89                 2     0.000000   \n",
            "2        4.212037     0.000000  ...  12.89                 2     6.196844   \n",
            "3        4.201481     0.000000  ...  12.89                 2     6.196844   \n",
            "4        4.233866     0.000000  ...  12.89                 2     6.196844   \n",
            "...           ...          ...  ...    ...               ...          ...   \n",
            "1701     8.115965     1.672092  ...  37.81                 2    12.393687   \n",
            "1702     7.444444     0.000000  ...  25.78                 1    24.787374   \n",
            "1703     0.000000     0.000000  ...  26.03                 1    12.263211   \n",
            "1704     3.740741     0.000000  ...  12.89                 1    23.044169   \n",
            "1705     3.555556     0.000000  ...  41.57                 1     0.000000   \n",
            "\n",
            "      EState_VSA1  NOCount  fr_C_O  fr_nitro_arom_nonortho  MinEStateIndex  \\\n",
            "0             0.0        2       0                       0        0.946736   \n",
            "1             0.0        1       0                       0        0.885370   \n",
            "2             0.0        1       0                       0        1.029514   \n",
            "3             0.0        1       0                       0        1.037685   \n",
            "4             0.0        1       0                       0        1.023148   \n",
            "...           ...      ...     ...                     ...             ...   \n",
            "1701          0.0        3       0                       0        0.836046   \n",
            "1702          0.0        2       0                       0        1.638889   \n",
            "1703          0.0        2       0                       0        1.513889   \n",
            "1704          0.0        1       0                       0        1.601852   \n",
            "1705          0.0        3       0                       0        1.444444   \n",
            "\n",
            "      VSA_EState3  EState_VSA8  \n",
            "0        2.207662    31.964268  \n",
            "1        1.176574    26.980289  \n",
            "2        1.176574    26.980289  \n",
            "3        1.168403    26.980289  \n",
            "4        1.168403    20.913922  \n",
            "...           ...          ...  \n",
            "1701     3.337963    27.417480  \n",
            "1702     0.000000     9.967957  \n",
            "1703     3.347222     9.679758  \n",
            "1704     1.930556     4.983979  \n",
            "1705     5.986111    15.181342  \n",
            "\n",
            "[1706 rows x 40 columns]\n"
          ]
        }
      ],
      "source": [
        "CSV_PATH = \"https://github.com/oasci-courses/pitt-biosc1540-2024f/raw/refs/heads/main/content/lectures/21/smiles-pka-desc.csv\"\n",
        "\n",
        "df = pd.read_csv(CSV_PATH)\n",
        "print(df)\n",
        "\n",
        "mol_example=df.iloc[600]  #prints values from a given index in the whole file\n",
        "#print(mol_example)\n",
        "\n",
        "#df.columns gives columns\n",
        "#show_mol(mol_example) won't work, we need one SMIILES string and not the whole row\n",
        "\n"
      ]
    },
    {
      "cell_type": "code",
      "source": [
        "#IMPORTANT - plotting\n",
        "\n",
        "import matplotlib.pyplot as plt\n",
        "fig, ax = plt.subplots(ncols=1, nrows=1)\n",
        "\n",
        "ax.hist(df[\"pka_value\"], bins=100)\n",
        "\n",
        "plt.show()"
      ],
      "metadata": {
        "colab": {
          "base_uri": "https://localhost:8080/",
          "height": 430
        },
        "id": "0kW0gMQpZf2d",
        "outputId": "a8ff7813-6e6b-4a36-e7a1-bba250ef17e4"
      },
      "execution_count": 40,
      "outputs": [
        {
          "output_type": "display_data",
          "data": {
            "text/plain": [
              "<Figure size 640x480 with 1 Axes>"
            ],
            "image/png": "[encoded data removed]"
          },
          "metadata": {}
        }
      ]
    },
    {
      "cell_type": "code",
      "source": [
        "#IMPORTANT - plotting\n",
        "\n",
        "fig, ax=plt.subplots()\n",
        "\n",
        "ax.scatter(df[\"NumHeteroatoms\"], df[\"pka_value\"])\n",
        "ax.set_xlabel(\"NumHeteroatoms\")\n",
        "ax.set_ylabel(\"pka_value\")\n",
        "\n",
        "#LINEAR REGRESSION - finding a line of best fit. pay attention."
      ],
      "metadata": {
        "outputId": "fa14ea0b-2bda-405d-b518-96095938a4a0",
        "colab": {
          "base_uri": "https://localhost:8080/",
          "height": 470
        },
        "id": "oR-YFKr1cGP2"
      },
      "execution_count": 41,
      "outputs": [
        {
          "output_type": "execute_result",
          "data": {
            "text/plain": [
              "Text(0, 0.5, 'pka_value')"
            ]
          },
          "metadata": {},
          "execution_count": 41
        },
        {
          "output_type": "display_data",
          "data": {
            "text/plain": [
              "<Figure size 640x480 with 1 Axes>"
            ],
            "image/png": "[encoded data removed]"
          },
          "metadata": {}
        }
      ]
    },
    {
      "cell_type": "code",
      "source": [
        "#LINEAR REGRESSION - finding a line of best fit. pay attention.\n",
        "\n",
        "#can find this formula online, get a simple equation from data and fit a line to it\n",
        "#scikit learn has info on this\n",
        "\n",
        "from sklearn.linear_model import LinearRegression"
      ],
      "metadata": {
        "id": "w_N5O3J7dv3g"
      },
      "execution_count": 42,
      "outputs": []
    },
    {
      "cell_type": "code",
      "source": [
        "model = LinearRegression()\n",
        "print(model)"
      ],
      "metadata": {
        "id": "tK2lPHbIek6Z",
        "outputId": "da1f0c38-cd2c-4483-c3db-89edd4312cb8",
        "colab": {
          "base_uri": "https://localhost:8080/"
        }
      },
      "execution_count": 43,
      "outputs": [
        {
          "output_type": "stream",
          "name": "stdout",
          "text": [
            "LinearRegression()\n"
          ]
        }
      ]
    },
    {
      "cell_type": "code",
      "source": [
        "x = df[\"SPS\"].to_numpy().reshape(-1, 1)\n",
        "print(x)\n",
        "y=df[\"pka_value\"].to_numpy().reshape(-1, 1)\n",
        "\n",
        "#we need array-like data. numpy better than pandas, supported by scikit learn here\n"
      ],
      "metadata": {
        "id": "ewXJjUvsfJnA",
        "outputId": "6a035335-6dac-4d20-9c23-068386579e1e",
        "colab": {
          "base_uri": "https://localhost:8080/"
        }
      },
      "execution_count": 68,
      "outputs": [
        {
          "output_type": "stream",
          "name": "stdout",
          "text": [
            "[[11.        ]\n",
            " [10.27272727]\n",
            " [10.27272727]\n",
            " ...\n",
            " [ 8.        ]\n",
            " [ 8.        ]\n",
            " [ 8.        ]]\n"
          ]
        }
      ]
    },
    {
      "cell_type": "code",
      "source": [
        "s = df.drop(columns=[\"SMILES\", \"pka_value\"], inplace=False).to_numpy().reshape(-1, 1)\n",
        "print(s)"
      ],
      "metadata": {
        "id": "yCNtWzi0gjw9",
        "outputId": "89df5f70-5937-458d-e413-733dc7bff2e7",
        "colab": {
          "base_uri": "https://localhost:8080/"
        }
      },
      "execution_count": 64,
      "outputs": [
        {
          "output_type": "stream",
          "name": "stdout",
          "text": [
            "[[ 0.        ]\n",
            " [ 0.        ]\n",
            " [ 0.09753673]\n",
            " ...\n",
            " [ 1.44444444]\n",
            " [ 5.98611111]\n",
            " [15.18134214]]\n"
          ]
        }
      ]
    },
    {
      "cell_type": "code",
      "source": [
        "model.fit(x, y)\n",
        "\n",
        "#line above fails on its own - we need a 2D array for both x and y"
      ],
      "metadata": {
        "id": "SRnLArp3fEGR",
        "outputId": "62f04284-ce11-4504-b405-9ca8e174f8e8",
        "colab": {
          "base_uri": "https://localhost:8080/",
          "height": 80
        }
      },
      "execution_count": 69,
      "outputs": [
        {
          "output_type": "execute_result",
          "data": {
            "text/plain": [
              "LinearRegression()"
            ],
            "text/html": [
              "<style>#sk-container-id-5 {\n",
              "  /* Definition of color scheme common for light and dark mode */\n",
              "  --sklearn-color-text: black;\n",
              "  --sklearn-color-line: gray;\n",
              "  /* Definition of color scheme for unfitted estimators */\n",
              "  --sklearn-color-unfitted-level-0: #fff5e6;\n",
              "  --sklearn-color-unfitted-level-1: #f6e4d2;\n",
              "  --sklearn-color-unfitted-level-2: #ffe0b3;\n",
              "  --sklearn-color-unfitted-level-3: chocolate;\n",
              "  /* Definition of color scheme for fitted estimators */\n",
              "  --sklearn-color-fitted-level-0: #f0f8ff;\n",
              "  --sklearn-color-fitted-level-1: #d4ebff;\n",
              "  --sklearn-color-fitted-level-2: #b3dbfd;\n",
              "  --sklearn-color-fitted-level-3: cornflowerblue;\n",
              "\n",
              "  /* Specific color for light theme */\n",
              "  --sklearn-color-text-on-default-background: var(--sg-text-color, var(--theme-code-foreground, var(--jp-content-font-color1, black)));\n",
              "  --sklearn-color-background: var(--sg-background-color, var(--theme-background, var(--jp-layout-color0, white)));\n",
              "  --sklearn-color-border-box: var(--sg-text-color, var(--theme-code-foreground, var(--jp-content-font-color1, black)));\n",
              "  --sklearn-color-icon: #696969;\n",
              "\n",
              "  @media (prefers-color-scheme: dark) {\n",
              "    /* Redefinition of color scheme for dark theme */\n",
              "    --sklearn-color-text-on-default-background: var(--sg-text-color, var(--theme-code-foreground, var(--jp-content-font-color1, white)));\n",
              "    --sklearn-color-background: var(--sg-background-color, var(--theme-background, var(--jp-layout-color0, #111)));\n",
              "    --sklearn-color-border-box: var(--sg-text-color, var(--theme-code-foreground, var(--jp-content-font-color1, white)));\n",
              "    --sklearn-color-icon: #878787;\n",
              "  }\n",
              "}\n",
              "\n",
              "#sk-container-id-5 {\n",
              "  color: var(--sklearn-color-text);\n",
              "}\n",
              "\n",
              "#sk-container-id-5 pre {\n",
              "  padding: 0;\n",
              "}\n",
              "\n",
              "#sk-container-id-5 input.sk-hidden--visually {\n",
              "  border: 0;\n",
              "  clip: rect(1px 1px 1px 1px);\n",
              "  clip: rect(1px, 1px, 1px, 1px);\n",
              "  height: 1px;\n",
              "  margin: -1px;\n",
              "  overflow: hidden;\n",
              "  padding: 0;\n",
              "  position: absolute;\n",
              "  width: 1px;\n",
              "}\n",
              "\n",
              "#sk-container-id-5 div.sk-dashed-wrapped {\n",
              "  border: 1px dashed var(--sklearn-color-line);\n",
              "  margin: 0 0.4em 0.5em 0.4em;\n",
              "  box-sizing: border-box;\n",
              "  padding-bottom: 0.4em;\n",
              "  background-color: var(--sklearn-color-background);\n",
              "}\n",
              "\n",
              "#sk-container-id-5 div.sk-container {\n",
              "  /* jupyter's `normalize.less` sets `[hidden] { display: none; }`\n",
              "     but bootstrap.min.css set `[hidden] { display: none !important; }`\n",
              "     so we also need the `!important` here to be able to override the\n",
              "     default hidden behavior on the sphinx rendered scikit-learn.org.\n",
              "     See: https://github.com/scikit-learn/scikit-learn/issues/21755 */\n",
              "  display: inline-block !important;\n",
              "  position: relative;\n",
              "}\n",
              "\n",
              "#sk-container-id-5 div.sk-text-repr-fallback {\n",
              "  display: none;\n",
              "}\n",
              "\n",
              "div.sk-parallel-item,\n",
              "div.sk-serial,\n",
              "div.sk-item {\n",
              "  /* draw centered vertical line to link estimators */\n",
              "  background-image: linear-gradient(var(--sklearn-color-text-on-default-background), var(--sklearn-color-text-on-default-background));\n",
              "  background-size: 2px 100%;\n",
              "  background-repeat: no-repeat;\n",
              "  background-position: center center;\n",
              "}\n",
              "\n",
              "/* Parallel-specific style estimator block */\n",
              "\n",
              "#sk-container-id-5 div.sk-parallel-item::after {\n",
              "  content: \"\";\n",
              "  width: 100%;\n",
              "  border-bottom: 2px solid var(--sklearn-color-text-on-default-background);\n",
              "  flex-grow: 1;\n",
              "}\n",
              "\n",
              "#sk-container-id-5 div.sk-parallel {\n",
              "  display: flex;\n",
              "  align-items: stretch;\n",
              "  justify-content: center;\n",
              "  background-color: var(--sklearn-color-background);\n",
              "  position: relative;\n",
              "}\n",
              "\n",
              "#sk-container-id-5 div.sk-parallel-item {\n",
              "  display: flex;\n",
              "  flex-direction: column;\n",
              "}\n",
              "\n",
              "#sk-container-id-5 div.sk-parallel-item:first-child::after {\n",
              "  align-self: flex-end;\n",
              "  width: 50%;\n",
              "}\n",
              "\n",
              "#sk-container-id-5 div.sk-parallel-item:last-child::after {\n",
              "  align-self: flex-start;\n",
              "  width: 50%;\n",
              "}\n",
              "\n",
              "#sk-container-id-5 div.sk-parallel-item:only-child::after {\n",
              "  width: 0;\n",
              "}\n",
              "\n",
              "/* Serial-specific style estimator block */\n",
              "\n",
              "#sk-container-id-5 div.sk-serial {\n",
              "  display: flex;\n",
              "  flex-direction: column;\n",
              "  align-items: center;\n",
              "  background-color: var(--sklearn-color-background);\n",
              "  padding-right: 1em;\n",
              "  padding-left: 1em;\n",
              "}\n",
              "\n",
              "\n",
              "/* Toggleable style: style used for estimator/Pipeline/ColumnTransformer box that is\n",
              "clickable and can be expanded/collapsed.\n",
              "- Pipeline and ColumnTransformer use this feature and define the default style\n",
              "- Estimators will overwrite some part of the style using the `sk-estimator` class\n",
              "*/\n",
              "\n",
              "/* Pipeline and ColumnTransformer style (default) */\n",
              "\n",
              "#sk-container-id-5 div.sk-toggleable {\n",
              "  /* Default theme specific background. It is overwritten whether we have a\n",
              "  specific estimator or a Pipeline/ColumnTransformer */\n",
              "  background-color: var(--sklearn-color-background);\n",
              "}\n",
              "\n",
              "/* Toggleable label */\n",
              "#sk-container-id-5 label.sk-toggleable__label {\n",
              "  cursor: pointer;\n",
              "  display: block;\n",
              "  width: 100%;\n",
              "  margin-bottom: 0;\n",
              "  padding: 0.5em;\n",
              "  box-sizing: border-box;\n",
              "  text-align: center;\n",
              "}\n",
              "\n",
              "#sk-container-id-5 label.sk-toggleable__label-arrow:before {\n",
              "  /* Arrow on the left of the label */\n",
              "  content: \"▸\";\n",
              "  float: left;\n",
              "  margin-right: 0.25em;\n",
              "  color: var(--sklearn-color-icon);\n",
              "}\n",
              "\n",
              "#sk-container-id-5 label.sk-toggleable__label-arrow:hover:before {\n",
              "  color: var(--sklearn-color-text);\n",
              "}\n",
              "\n",
              "/* Toggleable content - dropdown */\n",
              "\n",
              "#sk-container-id-5 div.sk-toggleable__content {\n",
              "  max-height: 0;\n",
              "  max-width: 0;\n",
              "  overflow: hidden;\n",
              "  text-align: left;\n",
              "  /* unfitted */\n",
              "  background-color: var(--sklearn-color-unfitted-level-0);\n",
              "}\n",
              "\n",
              "#sk-container-id-5 div.sk-toggleable__content.fitted {\n",
              "  /* fitted */\n",
              "  background-color: var(--sklearn-color-fitted-level-0);\n",
              "}\n",
              "\n",
              "#sk-container-id-5 div.sk-toggleable__content pre {\n",
              "  margin: 0.2em;\n",
              "  border-radius: 0.25em;\n",
              "  color: var(--sklearn-color-text);\n",
              "  /* unfitted */\n",
              "  background-color: var(--sklearn-color-unfitted-level-0);\n",
              "}\n",
              "\n",
              "#sk-container-id-5 div.sk-toggleable__content.fitted pre {\n",
              "  /* unfitted */\n",
              "  background-color: var(--sklearn-color-fitted-level-0);\n",
              "}\n",
              "\n",
              "#sk-container-id-5 input.sk-toggleable__control:checked~div.sk-toggleable__content {\n",
              "  /* Expand drop-down */\n",
              "  max-height: 200px;\n",
              "  max-width: 100%;\n",
              "  overflow: auto;\n",
              "}\n",
              "\n",
              "#sk-container-id-5 input.sk-toggleable__control:checked~label.sk-toggleable__label-arrow:before {\n",
              "  content: \"▾\";\n",
              "}\n",
              "\n",
              "/* Pipeline/ColumnTransformer-specific style */\n",
              "\n",
              "#sk-container-id-5 div.sk-label input.sk-toggleable__control:checked~label.sk-toggleable__label {\n",
              "  color: var(--sklearn-color-text);\n",
              "  background-color: var(--sklearn-color-unfitted-level-2);\n",
              "}\n",
              "\n",
              "#sk-container-id-5 div.sk-label.fitted input.sk-toggleable__control:checked~label.sk-toggleable__label {\n",
              "  background-color: var(--sklearn-color-fitted-level-2);\n",
              "}\n",
              "\n",
              "/* Estimator-specific style */\n",
              "\n",
              "/* Colorize estimator box */\n",
              "#sk-container-id-5 div.sk-estimator input.sk-toggleable__control:checked~label.sk-toggleable__label {\n",
              "  /* unfitted */\n",
              "  background-color: var(--sklearn-color-unfitted-level-2);\n",
              "}\n",
              "\n",
              "#sk-container-id-5 div.sk-estimator.fitted input.sk-toggleable__control:checked~label.sk-toggleable__label {\n",
              "  /* fitted */\n",
              "  background-color: var(--sklearn-color-fitted-level-2);\n",
              "}\n",
              "\n",
              "#sk-container-id-5 div.sk-label label.sk-toggleable__label,\n",
              "#sk-container-id-5 div.sk-label label {\n",
              "  /* The background is the default theme color */\n",
              "  color: var(--sklearn-color-text-on-default-background);\n",
              "}\n",
              "\n",
              "/* On hover, darken the color of the background */\n",
              "#sk-container-id-5 div.sk-label:hover label.sk-toggleable__label {\n",
              "  color: var(--sklearn-color-text);\n",
              "  background-color: var(--sklearn-color-unfitted-level-2);\n",
              "}\n",
              "\n",
              "/* Label box, darken color on hover, fitted */\n",
              "#sk-container-id-5 div.sk-label.fitted:hover label.sk-toggleable__label.fitted {\n",
              "  color: var(--sklearn-color-text);\n",
              "  background-color: var(--sklearn-color-fitted-level-2);\n",
              "}\n",
              "\n",
              "/* Estimator label */\n",
              "\n",
              "#sk-container-id-5 div.sk-label label {\n",
              "  font-family: monospace;\n",
              "  font-weight: bold;\n",
              "  display: inline-block;\n",
              "  line-height: 1.2em;\n",
              "}\n",
              "\n",
              "#sk-container-id-5 div.sk-label-container {\n",
              "  text-align: center;\n",
              "}\n",
              "\n",
              "/* Estimator-specific */\n",
              "#sk-container-id-5 div.sk-estimator {\n",
              "  font-family: monospace;\n",
              "  border: 1px dotted var(--sklearn-color-border-box);\n",
              "  border-radius: 0.25em;\n",
              "  box-sizing: border-box;\n",
              "  margin-bottom: 0.5em;\n",
              "  /* unfitted */\n",
              "  background-color: var(--sklearn-color-unfitted-level-0);\n",
              "}\n",
              "\n",
              "#sk-container-id-5 div.sk-estimator.fitted {\n",
              "  /* fitted */\n",
              "  background-color: var(--sklearn-color-fitted-level-0);\n",
              "}\n",
              "\n",
              "/* on hover */\n",
              "#sk-container-id-5 div.sk-estimator:hover {\n",
              "  /* unfitted */\n",
              "  background-color: var(--sklearn-color-unfitted-level-2);\n",
              "}\n",
              "\n",
              "#sk-container-id-5 div.sk-estimator.fitted:hover {\n",
              "  /* fitted */\n",
              "  background-color: var(--sklearn-color-fitted-level-2);\n",
              "}\n",
              "\n",
              "/* Specification for estimator info (e.g. \"i\" and \"?\") */\n",
              "\n",
              "/* Common style for \"i\" and \"?\" */\n",
              "\n",
              ".sk-estimator-doc-link,\n",
              "a:link.sk-estimator-doc-link,\n",
              "a:visited.sk-estimator-doc-link {\n",
              "  float: right;\n",
              "  font-size: smaller;\n",
              "  line-height: 1em;\n",
              "  font-family: monospace;\n",
              "  background-color: var(--sklearn-color-background);\n",
              "  border-radius: 1em;\n",
              "  height: 1em;\n",
              "  width: 1em;\n",
              "  text-decoration: none !important;\n",
              "  margin-left: 1ex;\n",
              "  /* unfitted */\n",
              "  border: var(--sklearn-color-unfitted-level-1) 1pt solid;\n",
              "  color: var(--sklearn-color-unfitted-level-1);\n",
              "}\n",
              "\n",
              ".sk-estimator-doc-link.fitted,\n",
              "a:link.sk-estimator-doc-link.fitted,\n",
              "a:visited.sk-estimator-doc-link.fitted {\n",
              "  /* fitted */\n",
              "  border: var(--sklearn-color-fitted-level-1) 1pt solid;\n",
              "  color: var(--sklearn-color-fitted-level-1);\n",
              "}\n",
              "\n",
              "/* On hover */\n",
              "div.sk-estimator:hover .sk-estimator-doc-link:hover,\n",
              ".sk-estimator-doc-link:hover,\n",
              "div.sk-label-container:hover .sk-estimator-doc-link:hover,\n",
              ".sk-estimator-doc-link:hover {\n",
              "  /* unfitted */\n",
              "  background-color: var(--sklearn-color-unfitted-level-3);\n",
              "  color: var(--sklearn-color-background);\n",
              "  text-decoration: none;\n",
              "}\n",
              "\n",
              "div.sk-estimator.fitted:hover .sk-estimator-doc-link.fitted:hover,\n",
              ".sk-estimator-doc-link.fitted:hover,\n",
              "div.sk-label-container:hover .sk-estimator-doc-link.fitted:hover,\n",
              ".sk-estimator-doc-link.fitted:hover {\n",
              "  /* fitted */\n",
              "  background-color: var(--sklearn-color-fitted-level-3);\n",
              "  color: var(--sklearn-color-background);\n",
              "  text-decoration: none;\n",
              "}\n",
              "\n",
              "/* Span, style for the box shown on hovering the info icon */\n",
              ".sk-estimator-doc-link span {\n",
              "  display: none;\n",
              "  z-index: 9999;\n",
              "  position: relative;\n",
              "  font-weight: normal;\n",
              "  right: .2ex;\n",
              "  padding: .5ex;\n",
              "  margin: .5ex;\n",
              "  width: min-content;\n",
              "  min-width: 20ex;\n",
              "  max-width: 50ex;\n",
              "  color: var(--sklearn-color-text);\n",
              "  box-shadow: 2pt 2pt 4pt #999;\n",
              "  /* unfitted */\n",
              "  background: var(--sklearn-color-unfitted-level-0);\n",
              "  border: .5pt solid var(--sklearn-color-unfitted-level-3);\n",
              "}\n",
              "\n",
              ".sk-estimator-doc-link.fitted span {\n",
              "  /* fitted */\n",
              "  background: var(--sklearn-color-fitted-level-0);\n",
              "  border: var(--sklearn-color-fitted-level-3);\n",
              "}\n",
              "\n",
              ".sk-estimator-doc-link:hover span {\n",
              "  display: block;\n",
              "}\n",
              "\n",
              "/* \"?\"-specific style due to the `<a>` HTML tag */\n",
              "\n",
              "#sk-container-id-5 a.estimator_doc_link {\n",
              "  float: right;\n",
              "  font-size: 1rem;\n",
              "  line-height: 1em;\n",
              "  font-family: monospace;\n",
              "  background-color: var(--sklearn-color-background);\n",
              "  border-radius: 1rem;\n",
              "  height: 1rem;\n",
              "  width: 1rem;\n",
              "  text-decoration: none;\n",
              "  /* unfitted */\n",
              "  color: var(--sklearn-color-unfitted-level-1);\n",
              "  border: var(--sklearn-color-unfitted-level-1) 1pt solid;\n",
              "}\n",
              "\n",
              "#sk-container-id-5 a.estimator_doc_link.fitted {\n",
              "  /* fitted */\n",
              "  border: var(--sklearn-color-fitted-level-1) 1pt solid;\n",
              "  color: var(--sklearn-color-fitted-level-1);\n",
              "}\n",
              "\n",
              "/* On hover */\n",
              "#sk-container-id-5 a.estimator_doc_link:hover {\n",
              "  /* unfitted */\n",
              "  background-color: var(--sklearn-color-unfitted-level-3);\n",
              "  color: var(--sklearn-color-background);\n",
              "  text-decoration: none;\n",
              "}\n",
              "\n",
              "#sk-container-id-5 a.estimator_doc_link.fitted:hover {\n",
              "  /* fitted */\n",
              "  background-color: var(--sklearn-color-fitted-level-3);\n",
              "}\n",
              "</style><div id=\"sk-container-id-5\" class=\"sk-top-container\"><div class=\"sk-text-repr-fallback\"><pre>LinearRegression()</pre><b>In a Jupyter environment, please rerun this cell to show the HTML representation or trust the notebook. <br />On GitHub, the HTML representation is unable to render, please try loading this page with nbviewer.org.</b></div><div class=\"sk-container\" hidden><div class=\"sk-item\"><div class=\"sk-estimator fitted sk-toggleable\"><input class=\"sk-toggleable__control sk-hidden--visually\" id=\"sk-estimator-id-5\" type=\"checkbox\" checked><label for=\"sk-estimator-id-5\" class=\"sk-toggleable__label fitted sk-toggleable__label-arrow fitted\">&nbsp;&nbsp;LinearRegression<a class=\"sk-estimator-doc-link fitted\" rel=\"noreferrer\" target=\"_blank\" href=\"https://scikit-learn.org/1.5/modules/generated/sklearn.linear_model.LinearRegression.html\">?<span>Documentation for LinearRegression</span></a><span class=\"sk-estimator-doc-link fitted\">i<span>Fitted</span></span></label><div class=\"sk-toggleable__content fitted\"><pre>LinearRegression()</pre></div> </div></div></div></div>"
            ]
          },
          "metadata": {},
          "execution_count": 69
        }
      ]
    },
    {
      "cell_type": "code",
      "source": [
        "linear_score = model.score(x, y)\n",
        "\n",
        "print(linear_score)"
      ],
      "metadata": {
        "id": "9_vIfBfegZd-",
        "outputId": "8e5febb5-7c77-4e90-800c-3280fac8c2f9",
        "colab": {
          "base_uri": "https://localhost:8080/"
        }
      },
      "execution_count": 70,
      "outputs": [
        {
          "output_type": "stream",
          "name": "stdout",
          "text": [
            "0.08201733006372247\n"
          ]
        }
      ]
    }
  ],
  "metadata": {
    "kernelspec": {
      "display_name": "Python 3",
      "language": "python",
      "name": "python3"
    },
    "language_info": {
      "codemirror_mode": {
        "name": "ipython",
        "version": 3
      },
      "file_extension": ".py",
      "mimetype": "text/x-python",
      "name": "python",
      "nbconvert_exporter": "python",
      "pygments_lexer": "ipython3",
      "version": "3.13.0"
    },
    "colab": {
      "provenance": []
    }
  },
  "nbformat": 4,
  "nbformat_minor": 0
}